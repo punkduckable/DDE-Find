{
 "cells": [
  {
   "cell_type": "code",
   "execution_count": 90,
   "id": "85467e02",
   "metadata": {},
   "outputs": [],
   "source": [
    "import  torch\n",
    "import  numpy;\n",
    "import  matplotlib.pyplot   as      plt;\n",
    "from    scipy               import  interpolate;\n",
    "from    typing              import  List, Dict, Tuple;\n",
    "\n",
    "Debug : bool = False;"
   ]
  },
  {
   "cell_type": "markdown",
   "id": "99127772",
   "metadata": {},
   "source": [
    "### Model Class\n",
    "\n",
    "Define a class that can describe the right-hand side of a DDE, \n",
    "$$x'(t) = F(x(t), y(t), t) $$\n",
    "\n",
    "In our case, the right-hand side we want to learn will be\n",
    "1. $F(x, y, t) = x(1 - y) $\n",
    "2. $F(x, y, t) = \\sin{x}$\n",
    "\n",
    "The `MODEL` class defines an object that can act like the function $F$."
   ]
  },
  {
   "cell_type": "code",
   "execution_count": 91,
   "id": "115b1cb9",
   "metadata": {},
   "outputs": [],
   "source": [
    "class MODEL(torch.nn.Module):\n",
    "    \"\"\" \n",
    "    Objects of the MODEL class are designed to model the right-hand side of a DDE. Consider the \n",
    "    following DDE:\n",
    "        x'(t) = F(x(t), x(t - \\tau), t)     t \\in [0, t_f]\n",
    "        x(t)  = x_0                         t \\in [-\\tau, 0]\n",
    "    A MODEL object is supposed to act like the function F in the expression above. In other words, \n",
    "    it defines a function which accepts three arguments: x, y, and t. If x = x(t), y = x(t - \\tau),\n",
    "    then the returned value  can be interpreted as the right hand side of a DDE.\n",
    "    \"\"\"\n",
    "\n",
    "    def __init__(self, c_0 : float = 2.0, c_1 : float = 2.0):\n",
    "        \"\"\" \n",
    "        Currently, this MODEL class is set up to act as a logistic map:\n",
    "            F(x, y, t) = c_0*x*(1 - c_1*y)\n",
    "        (there is no explicit dependence on t). Thus, the arguments c_0 and c_1 define the function \n",
    "        implied by this MODEL object.\n",
    "        \"\"\"\n",
    "        \n",
    "        # Call the super class initializer. \n",
    "        super(MODEL, self).__init__();\n",
    "\n",
    "        # Set model parameters.\n",
    "        self.Params = torch.nn.parameter.Parameter(torch.tensor([c_0, c_1], dtype = torch.float32, requires_grad = True));\n",
    "\n",
    "\n",
    "\n",
    "    def forward(self, x : torch.Tensor, y : torch.Tensor, t : torch.Tensor) -> torch.Tensor:\n",
    "        \"\"\"\n",
    "        A MODEL object defines the right hand side of a DDE (see class doc-string above). Thus, the \n",
    "        forward map defines that function. We expect x, y, and t to be single element tensors. This \n",
    "        function then returns\n",
    "            F(x, y, t) = c_0*x*(1 - c_1*y)\n",
    "        \n",
    "        --------------------------------------------------------------------------------------------\n",
    "        Arguments:\n",
    "\n",
    "        x, y: 1D tensors representing the first two arguments of the right hand side of the above \n",
    "        DDE. These should have the same length.\n",
    "\n",
    "        t: a single element tensor whose lone value represents the third argument to the DDE above.\n",
    "        \"\"\"\n",
    "\n",
    "        # Checks.\n",
    "        assert(len(x.shape) == 1);\n",
    "        assert(len(y.shape) == 1);\n",
    "        assert(x.numel()    == y.numel());\n",
    "        assert(t.numel()    == 1);\n",
    "        \n",
    "        # Fetch parameters\n",
    "        Params = self.Params; \n",
    "\n",
    "        # compute, return the output         \n",
    "        Output : torch.Tensor = Params[0]*x*(1 - Params[1]*y);\n",
    "        return Output;"
   ]
  },
  {
   "cell_type": "markdown",
   "id": "c1d2d676",
   "metadata": {},
   "source": [
    "### DDE Solver\n",
    "\n",
    "This is an algorithm to solve a DDE of the following form:\n",
    "$$\\begin{aligned} x'(t) &= F(x(t), x(t - \\tau), t) \\qquad t \\in [0, t_f] \\\\\n",
    "x(t) &= x_0 \\qquad \\qquad \\qquad \\qquad \\quad  t \\in [-\\tau, 0] \\end{aligned}$$\n",
    "\n",
    "We find an approximate solution using a forward euler solver for DDEs."
   ]
  },
  {
   "cell_type": "code",
   "execution_count": 92,
   "id": "f4ce50a7",
   "metadata": {},
   "outputs": [],
   "source": [
    "def DDE_Solve(F : torch.nn.Module, x_0 : torch.Tensor, tau : torch.Tensor, t_f : torch.Tensor) -> Tuple[torch.Tensor, torch.Tensor]:\n",
    "    \"\"\"\n",
    "    This function computes an approximate solution to the following DDE:\n",
    "        x'(t)   = F(x(t), x(t - \\tau), t)   t \\in [0, t_f]\n",
    "        x(t)    = x_0                       t \\in [-\\tau, 0]\n",
    "    Here, x \\in \\mathbb{R}^d.\n",
    "    \n",
    "    --------------------------------------------------------------------------------------------\n",
    "    Arguments:\n",
    "\n",
    "    F : This is a torch.nn.Module object which represents the right-hand side of the DDE (See \n",
    "    above). \n",
    "\n",
    "    x_0 : This is a 1D tensor whose value represents the initial state of the DDE (see above).\n",
    "\n",
    "    tau : This is a single element tensor whose lone element represents the time delay.\n",
    "\n",
    "    t_f : this is a single element tensor whose lone element represents the final time. \n",
    "\n",
    "    --------------------------------------------------------------------------------------------\n",
    "    Returns:\n",
    "\n",
    "    A two element tuple. The first element holds a 2D tensor whose kth column holds the state of \n",
    "    the system (as solved by the solver) at the kth time value. The second is another 1D tensor \n",
    "    whose kth element holds the kth time value. Note: We only approximate the solution in the \n",
    "    interval [0, t_f].\n",
    "    \"\"\"\n",
    "\n",
    "    # Checks\n",
    "    assert(len(x_0.shape)   == 1);\n",
    "    assert(tau.numel()      == 1);\n",
    "    assert(t_f.numel()      == 1);\n",
    "\n",
    "    # Find the dimension of x. \n",
    "    d   : int           = x_0.shape[0];\n",
    "\n",
    "    # Define the time-step to be 0.01 of the delay\n",
    "    dt  : torch.Tensor  = 0.01*tau if tau != 0 else torch.tensor(1.);\n",
    "\n",
    "    # Find the number of time steps. We add +1 for the initial time.\n",
    "    N   : int           = int(torch.floor(t_f/dt).item());\n",
    "\n",
    "    # compute the difference in indices between x(t) and x(t - tau)\n",
    "    dN = (tau/dt).int();\n",
    "    \n",
    "    # tensor to hold the solution, time steps. Note the +1 is to account for \n",
    "    # the fact that we want the solution at N+1 times: 0, dt, 2dt, ... , Ndt.\n",
    "    X   : torch.Tensor  = torch.empty([d, N + 1],   dtype = torch.float32);\n",
    "    T   : torch.Tensor  = torch.linspace(start = 0, end = N*dt, steps = N + 1);\n",
    "\n",
    "    # Set the first column of x to the IC.  \n",
    "    X[:, 0]             = x_0;\n",
    "\n",
    "    if(Debug == True):\n",
    "        print(\"t_f = %f, tau = %f, N = %d, dN = %d\" % (t_f, tau, N, dN));\n",
    "\n",
    "    # Compute the solution!\n",
    "    for i in range(0, N):\n",
    "        # Find x at the i+1th time value. Note that if t < tau (equivalently, i < dN), then \n",
    "        # t - \\tau < 0, which means that x(t - \\tau) = x_0. \n",
    "        if i >= dN:\n",
    "            X[:, i + 1] = X[:, i] + dt*F(x = X[:, i], y = X[:, i - dN], t = i*dN);\n",
    "        else:\n",
    "            X[:, i + 1] = X[:, i] + dt*F(x = X[:, i], y = x_0,          t = i*dN);\n",
    "\n",
    "    # All done!\n",
    "    return (X, T);"
   ]
  },
  {
   "cell_type": "markdown",
   "id": "ea7181d8",
   "metadata": {},
   "source": [
    "### Generate True solution\n",
    "\n",
    "Generate the true solution and plot it!"
   ]
  },
  {
   "cell_type": "code",
   "execution_count": 93,
   "id": "48319b94",
   "metadata": {},
   "outputs": [
    {
     "data": {
      "image/png": "[encoded data removed]",
      "text/plain": [
       "<Figure size 640x480 with 1 Axes>"
      ]
     },
     "metadata": {},
     "output_type": "display_data"
    }
   ],
   "source": [
    "# Set up an object to represent the vector field that we want to learn\n",
    "F_True          = MODEL(c_0 = 1.0, c_1 = 1.0);\n",
    "x_0_True        = torch.tensor([2.0]);\n",
    "tau_True        = torch.tensor(1.0);\n",
    "t_f_True        = torch.tensor(10.0);\n",
    "x_True, t_True  = DDE_Solve(F = F_True, x_0 = x_0_True, tau = tau_True, t_f = t_f_True);\n",
    "\n",
    "# Now, set up tau, final time. We will attempt to learn tau.\n",
    "plt.plot(t_True.detach().numpy(), x_True.reshape(-1).detach().numpy());"
   ]
  },
  {
   "cell_type": "markdown",
   "id": "fa1f39fc",
   "metadata": {},
   "source": [
    "### Autograd.Function for Neural DDEs\n",
    "\n",
    "Forward pass - solve the DDE with $f(x, y, \\theta) $ as the vector field and $x_0$ as initial condition\n",
    "\n",
    "Backward pass - Solve the adjoint equation to return the gradient of the trajectory at final time with respect to $\\theta$ and $\\tau$"
   ]
  },
  {
   "cell_type": "code",
   "execution_count": 94,
   "id": "d2c8fd3c",
   "metadata": {},
   "outputs": [],
   "source": [
    "class DDE_adjoint_1D(torch.autograd.Function):\n",
    "    \n",
    "    @staticmethod\n",
    "    def forward(ctx, F : torch.nn.Module, x_0 : torch.Tensor, tau : torch.Tensor, t_f : torch.Tensor, F_Params : torch.Tensor):\n",
    "        # Set context object members.\n",
    "        ctx.F       = F; \n",
    "        ctx.x_0     = x_0;\n",
    "        ctx.tau     = tau;\n",
    "        ctx.t_f     = t_f;\n",
    "        \n",
    "        # Compute the forward solution using the DDE solver. \n",
    "        with torch.no_grad():\n",
    "            # Note: we only want to keep the trajectory... not the time data.\n",
    "            x_trajectory = DDE_Solve(F, x_0, tau, t_f)[0];\n",
    "            ctx.save_for_backward(x_trajectory);\n",
    "            \n",
    "        return x_trajectory.clone();\n",
    "        \n",
    "    \n",
    "    @staticmethod\n",
    "    def backward(ctx, grad_y):\n",
    "        # recover information from the forward pass\n",
    "        F               : torch.nn.Module   = ctx.F;\n",
    "        x_0             : torch.Tensor      = ctx.x_0;\n",
    "        tau             : torch.Tensor      = ctx.tau;\n",
    "        t_f             : torch.Tensor      = ctx.t_f;\n",
    "        x_Trajectory                        = ctx.saved_tensors[0];\n",
    "        \n",
    "        # extract the parameters from the list and find how many there are\n",
    "        F_Params        : torch.Tensor      = F.Params;\n",
    "        N_Params        : int               = F_Params.shape[0];\n",
    "        \n",
    "        # Find out how many time points there are.\n",
    "        dt              : torch.Tensor      = 0.01*tau if tau != 0 else torch.tensor(1.);\n",
    "        N               : int               = int(torch.floor(t_f/dt).item());\n",
    "        \n",
    "        # Number of indices between one time delay.\n",
    "        dN              : torch.Tensor      = (tau/dt).int();\n",
    "\n",
    "        # define the augmented system\n",
    "        p               : torch.Tensor      = torch.zeros(N + 1, dtype = torch.float32); # we need to remember the second dimension since the eq for p is a DDE\n",
    "        p_tau           : torch.Tensor      = torch.tensor([0]);\n",
    "        p_theta         : torch.Tensor      = torch.zeros_like(F_Params);\n",
    "\n",
    "        # Initialize the last component of p. \n",
    "        p[-1]                               = 1.;\n",
    "\n",
    "        # we need the sensitivity matrix evaluated at future times in the equation for the adjoint\n",
    "        # so we need to store it\n",
    "        dfdy = torch.zeros(N);\n",
    "\n",
    "        for i in range(N - 1, -1, -1):\n",
    "            # get rid of the computation graph\n",
    "            entry1 = x_Trajectory[:, i].detach().requires_grad_(True);\n",
    "            entry2 = x_Trajectory[:, i - dN].detach().requires_grad_(True) if i >= dN else x_0;\n",
    "        \n",
    "            # Evaluate F at the current state.\n",
    "            torch.set_grad_enabled(True);\n",
    "            time    = torch.tensor(float(i), requires_grad = True);\n",
    "            F_xyt   = F(entry1, entry2 , time);\n",
    "            torch.set_grad_enabled(False);\n",
    "            \n",
    "            # find the gradient of F w.r.t. x, y, and theta\n",
    "            pars      = (entry1, entry2, F.Params);\n",
    "            #print(pars)\n",
    "            gradients = torch.autograd.grad(F_xyt, pars, retain_graph = True, create_graph = True);\n",
    "            \n",
    "            dfdx      = gradients[0];\n",
    "            dfdy[i]   = gradients[1];\n",
    "            dfdtheta  = gradients[2:];\n",
    "            \n",
    "            # if the gradients are None then the vector field doesn't depend on x or x(t - tau). Set it to 0 instead\n",
    "            # and let the reader know:\n",
    "            if dfdx == None:\n",
    "                dfdx = torch.zeros(dfdx.shape);\n",
    "            if dfdy[i] == None:\n",
    "                dfdy[i] = torch.zeros(dims, dims);\n",
    "                print(\"No dependence on the delay term!\")\n",
    "        \n",
    "            # find the delay equation for p's and go one step further\n",
    "            # since p(t) = 0 for t >T the delay term vanishes if t + tau > T\n",
    "            if i >= N - dN:\n",
    "                p[i] = p[i + 1] - dt*(dfdx*p[i + 1]);\n",
    "            else:\n",
    "                p[i] = p[i + 1] - dt *(dfdx*p[i + 1] + dfdy[i + dN]*p[i + dN]);\n",
    "            \n",
    "    \n",
    "            # update the values of gradient wrt theta and wrt tau using current adjoint value            \n",
    "            # turn the elements that are none into zeros, and make the gradient a torch tensor\n",
    "            #dfdtheta = [0 if element is None else element for element in dfdtheta]\n",
    "            dfdtheta    = dfdtheta[0];\n",
    "            p_theta     = p_theta - dt*p[i]*dfdtheta;\n",
    "            if i > dN:\n",
    "                f_tau_in_the_past   = F(x_Trajectory[:, i - dN], x_Trajectory[:, i - 2*dN] if i - 2*dN >= 0 else x_0,  i - dN);\n",
    "                p_tau               = p_tau - dt*p[i]*dfdy[i]*f_tau_in_the_past;\n",
    "        \n",
    "        # All done... The kth return argument represents the gradient for the kth argument to forward.\n",
    "        return None, torch.tensor([p[0]]), p_tau, torch.tensor([0]), p_theta;\n",
    "    \n",
    "    "
   ]
  },
  {
   "cell_type": "markdown",
   "id": "bee20e3c",
   "metadata": {},
   "source": [
    "### NDDE class\n",
    "\n",
    "Here we define the `NDDE_1D` class. This class acts as a wrapper around a `MODEL` object. Recall that a `MODEL` object acts like the function $F$ in the following DDE:\n",
    "$$\\begin{aligned} x'(t) &= F(x(t), x(t - \\tau), t) \\qquad t \\in [0, t_f] \\\\\n",
    "x(t) &= x_0 \\qquad \\qquad \\qquad \\qquad \\quad  t \\in [-\\tau, 0] \\end{aligned}$$\n",
    "The `NDDE_1D` class accepts a `MODEL`. Its forward method solves the implied DDE on the interval $[0, t_f]$ and then returns the result."
   ]
  },
  {
   "cell_type": "code",
   "execution_count": 95,
   "id": "0c74468d",
   "metadata": {},
   "outputs": [],
   "source": [
    "class NDDE_1D(torch.nn.Module):\n",
    "    def __init__(self, Model : torch.nn.Module):\n",
    "        \"\"\"\n",
    "        Arguments:\n",
    "\n",
    "        Model: This is a torch Module object which acts as the function \"F\" in a DDE: \n",
    "            x'(t) = F(x(t), x(t - \\tau), t)     for t \\in [0, t_f]\n",
    "            x(t)  = x_0                         for t \\in [-\\tau, 0]\n",
    "        Thus, the Model should accept three arguments: x(t), x(t - \\tau), and t. \n",
    "        \"\"\"\n",
    "\n",
    "        # Call the super class initializer.\n",
    "        super(NDDE_1D, self).__init__();\n",
    "\n",
    "        # Set the model.\n",
    "        self.Model = Model;\n",
    "        \n",
    "\n",
    "    def forward(self, x_0 : torch.Tensor, tau : torch.Tensor, t_f : torch.Tensor):\n",
    "        \"\"\"\n",
    "        Arguments: \n",
    "\n",
    "        x_0: the initial position. We assume that x(t) = x_0 for t \\in [-\\tau, 0]. Thus, x_0 \n",
    "        defines the initial state of the DDE. x_0 should be a 1D tensor.\n",
    "\n",
    "        tau: The time delay in the DDE. This should be a single element tensor.\n",
    "\n",
    "        t_f: The final time in our solution to the DDE (See above). This should be a single \n",
    "        element tensor.\n",
    "        \"\"\"\n",
    "\n",
    "        # Run checks.\n",
    "        assert(len(x_0.shape)   == 1);\n",
    "        assert(tau.numel()      == 1);\n",
    "        assert(t_f.numel()      == 1);\n",
    "\n",
    "        # Fetch the model and its parameters.\n",
    "        Model       : torch.nn.Module   = self.Model;\n",
    "        Params      : torch.Tensor      = Model.Params;\n",
    "\n",
    "        # Evaluate the neural DDE using the Model\n",
    "        Trajectory = DDE_adjoint_1D.apply(Model, x_0, tau, t_f, Params);\n",
    "        return Trajectory;\n",
    "        "
   ]
  },
  {
   "cell_type": "markdown",
   "id": "3542ff7f",
   "metadata": {},
   "source": [
    "### Auxillary functions\n",
    "\n",
    "These are functions which we need to run the Epochs. Currently, this consists of `loss_fn` and `Interpolate_Trajectory`. The former defines the loss we try to minimize while the latter allows us to interpolate the solution of a DDE. The latter is needed because $tau$ changes as we train the model (and chaning tau changes the step size, which changes the times at which the DDE solver finds solutions to the DDE)."
   ]
  },
  {
   "cell_type": "code",
   "execution_count": 96,
   "id": "a524fbef",
   "metadata": {},
   "outputs": [],
   "source": [
    "def loss_fn(predictions : torch.Tensor, targets : torch.Tensor, tau : torch.Tensor):\n",
    "    l : float = 0.;\n",
    "    return torch.mean(torch.square(predictions - targets)) + l*tau**2;\n",
    "\n",
    "\n",
    "\n",
    "def Interpolate_Trajectory(X : torch.Tensor, T : torch.Tensor, N : int):\n",
    "    \"\"\" \n",
    "    This function allows us to interpolate a vector valued function, x(t). We assume that the kth \n",
    "    column of X represents the value of x at the time T[k]. This function interpolates those \n",
    "    samples to determine the value of x at 0, dt, d2t, ... , T[-1], where dt = T[-1]/N.\n",
    "\n",
    "    --------------------------------------------------------------------------------------------\n",
    "    Arguments:\n",
    "\n",
    "    X: This is a d x N tensor whose kth column represents the value of some (vector valued) \n",
    "    function, x(t), at the kth time value. \n",
    "\n",
    "    T: This is a N element tensor whose kth entry holds the kth time value.\n",
    "    \"\"\"\n",
    "\n",
    "    # Checks\n",
    "    assert(len(X.shape) == 2);\n",
    "    assert(len(T.shape) == 1);\n",
    "    assert(X.shape[1]   == T.shape[0]);\n",
    "\n",
    "    # Convert everything to numpy ndarrays.\n",
    "    X_np    : numpy.ndarray = X.detach().numpy();\n",
    "    T_np    : numpy.ndarray = T.detach().numpy();\n",
    "    \n",
    "    # interpolate\n",
    "    f_interp = interpolate.interp1d(T_np, X_np);\n",
    "    \n",
    "    # Fetch the final time. \n",
    "    t_i : float = T_np[0];\n",
    "    t_f : float = T_np[-1];\n",
    "\n",
    "    # find the values of the trajectory at the new time steps\n",
    "    New_T_np            : numpy.ndarray = numpy.linspace(t_i, t_f, N);\n",
    "    interpolated_X      : numpy.ndarray = f_interp(New_T_np);\n",
    "\n",
    "    return torch.from_numpy(interpolated_X);"
   ]
  },
  {
   "cell_type": "markdown",
   "id": "c7f85b88",
   "metadata": {},
   "source": [
    "### Setup the Model we want to optimize\n"
   ]
  },
  {
   "cell_type": "code",
   "execution_count": 97,
   "id": "f8d05f46",
   "metadata": {},
   "outputs": [],
   "source": [
    "# Set up a NDDE_1D object. We will try to train the enclosed model to match the one we used to generate the above plot.\n",
    "Model       = MODEL(c_0 = 2.0, c_1 = 2.0);\n",
    "DDE_Module  = NDDE_1D(Model);\n",
    "\n",
    "# Pick a starting position, tau, and x_0\n",
    "x_0     = torch.tensor([2.0],   requires_grad = True);\n",
    "t_f     = torch.tensor(10.0,    requires_grad = True);\n",
    "tau     = torch.tensor(2.0,     requires_grad = True);\n",
    "\n",
    "# Select the optimizer.\n",
    "Param_List : List = list(Model.parameters()) + [tau];\n",
    "optimizer = torch.optim.Adam(Param_List, lr = 0.1);"
   ]
  },
  {
   "cell_type": "markdown",
   "id": "e555cf3b",
   "metadata": {},
   "source": [
    "### Run the Epochs!"
   ]
  },
  {
   "cell_type": "code",
   "execution_count": 98,
   "id": "7c84f7d6",
   "metadata": {},
   "outputs": [
    {
     "name": "stdout",
     "output_type": "stream",
     "text": [
      "0 : Loss =  tensor(1.5627, dtype=torch.float64, grad_fn=<AddBackward0>)  tau =  tensor(1.9000, requires_grad=True) parameters =  Parameter containing:\n",
      "tensor([1.9000, 1.9000], requires_grad=True)\n",
      "10 : Loss =  tensor(0.4855, dtype=torch.float64, grad_fn=<AddBackward0>)  tau =  tensor(1.3609, requires_grad=True) parameters =  Parameter containing:\n",
      "tensor([1.3564, 1.3564], requires_grad=True)\n",
      "20 : Loss =  tensor(0.0772, dtype=torch.float64, grad_fn=<AddBackward0>)  tau =  tensor(1.1595, requires_grad=True) parameters =  Parameter containing:\n",
      "tensor([1.1570, 1.1567], requires_grad=True)\n",
      "30 : Loss =  tensor(0.0175, dtype=torch.float64, grad_fn=<AddBackward0>)  tau =  tensor(1.0818, requires_grad=True) parameters =  Parameter containing:\n",
      "tensor([1.0800, 1.0796], requires_grad=True)\n"
     ]
    },
    {
     "data": {
      "image/png": "[encoded data removed]",
      "text/plain": [
       "<Figure size 640x480 with 1 Axes>"
      ]
     },
     "metadata": {},
     "output_type": "display_data"
    }
   ],
   "source": [
    "####################################################################################################\n",
    "# Setup. \n",
    "\n",
    "# Pick the number of epochs. \n",
    "n_epochs = 1000;\n",
    "\n",
    "# Set up buffers to track history.\n",
    "loss_iterations         = torch.zeros(n_epochs);\n",
    "parameter_iterations    = torch.zeros(n_epochs, 2);\n",
    "tau_iterations          = torch.zeros(n_epochs);\n",
    "\n",
    "\n",
    "\n",
    "####################################################################################################\n",
    "# Run the epochs!\n",
    "\n",
    "for epoch in range(n_epochs):    \n",
    "    # find the predicted trajectories with current tau, parameter values.\n",
    "    Predicted_Trajectory : torch.Tensor = DDE_Module(x_0, tau, t_f);\n",
    "\n",
    "    if torch.any(torch.isnan(Predicted_Trajectory)) == False:\n",
    "        # find the time steps for the output trajectory\n",
    "        N : int = Predicted_Trajectory.shape[1];\n",
    "\n",
    "        # interpolate the data at the new time steps. Note that we need to do this \n",
    "        # every epoch because tau changes each epoch, and tau controls the step size.\n",
    "        Target_Trajectory : torch.Tensor = Interpolate_Trajectory(x_True, t_True, N);\n",
    "\n",
    "        # Compute the loss!\n",
    "        loss : torch.Tensor = loss_fn(Predicted_Trajectory, Target_Trajectory, tau);\n",
    "\n",
    "        # Run one step of the optimizer!\n",
    "        optimizer.zero_grad();\n",
    "        loss.backward();\n",
    "        optimizer.step();\n",
    "\n",
    "        # Report loss and stuff.\n",
    "        if epoch % 10 == 0:\n",
    "            print(epoch, \": Loss = \", loss, \" tau = \", tau, \"parameters = \", Model.Params);\n",
    "            plt.plot(Predicted_Trajectory[0].detach().numpy());\n",
    "\n",
    "        # save the data for printing later\n",
    "        loss_iterations[epoch]          = loss;\n",
    "        parameter_iterations[epoch, :]  = Model.Params;\n",
    "        tau_iterations[epoch]           = tau;\n",
    "        \n",
    "        # Check if loss is low enough to stop\n",
    "        if loss < 0.01:\n",
    "            break;\n",
    "    \n",
    "    else:    \n",
    "        print(\"Something went wrong :(\");\n",
    "        break;"
   ]
  },
  {
   "cell_type": "code",
   "execution_count": 84,
   "id": "dda9f41f",
   "metadata": {},
   "outputs": [
    {
     "data": {
      "text/plain": [
       "[<matplotlib.lines.Line2D at 0x2acb12370>]"
      ]
     },
     "execution_count": 84,
     "metadata": {},
     "output_type": "execute_result"
    },
    {
     "data": {
      "image/png": "[encoded data removed]",
      "text/plain": [
       "<Figure size 640x480 with 1 Axes>"
      ]
     },
     "metadata": {},
     "output_type": "display_data"
    }
   ],
   "source": [
    "plt.plot(loss_iterations.detach().numpy())"
   ]
  },
  {
   "cell_type": "code",
   "execution_count": null,
   "id": "a82687c5",
   "metadata": {},
   "outputs": [
    {
     "data": {
      "text/plain": [
       "[<matplotlib.lines.Line2D at 0x37875c3d0>]"
      ]
     },
     "execution_count": 86,
     "metadata": {},
     "output_type": "execute_result"
    },
    {
     "data": {
      "image/png": "[encoded data removed]",
      "text/plain": [
       "<Figure size 640x480 with 1 Axes>"
      ]
     },
     "metadata": {},
     "output_type": "display_data"
    }
   ],
   "source": [
    "plt.plot(x_True.detach().numpy(), label = \"true\")\n",
    "plt.plot(Predicted_Trajectory[0].detach().numpy(), label = \"discovered\")"
   ]
  },
  {
   "cell_type": "code",
   "execution_count": null,
   "id": "d2c98ae0",
   "metadata": {},
   "outputs": [
    {
     "data": {
      "text/plain": [
       "(tensor(2., requires_grad=True),\n",
       " Parameter containing:\n",
       " tensor([2., 2.], requires_grad=True))"
      ]
     },
     "execution_count": 82,
     "metadata": {},
     "output_type": "execute_result"
    }
   ],
   "source": [
    "tau, Model.Params"
   ]
  },
  {
   "cell_type": "markdown",
   "id": "bdd1fc5a",
   "metadata": {},
   "source": [
    "Code to plot the loss function in terms for fixed parameter values as a function of $\\tau$"
   ]
  },
  {
   "cell_type": "code",
   "execution_count": null,
   "id": "c62fd675",
   "metadata": {},
   "outputs": [],
   "source": [
    "# set parameters of eqn:\n",
    "def g(x, y, t, *parameters):\n",
    "    return 2*x*(1 - 2*y)\n",
    "# tau grid:\n",
    "grid_tau = torch.linspace(0, 2, steps = 100, requires_grad = True)\n",
    "loss_tau = torch.zeros(100)\n",
    "for i in range(100):\n",
    "    output = DDE_Solve(g, x_0, grid_tau[i], t_f)[0]\n",
    "    N = output.shape[0]\n",
    "    #plt.plot(output.detach().numpy())\n",
    "    data = Interpolate_Trajectory(x_True, t_f, N)\n",
    "    \n",
    "    loss_tau[i] = loss_fn(output, data, grid_tau[i])\n"
   ]
  },
  {
   "cell_type": "code",
   "execution_count": 85,
   "id": "62215c28",
   "metadata": {},
   "outputs": [
    {
     "data": {
      "text/plain": [
       "[<matplotlib.lines.Line2D at 0x2b0476c40>]"
      ]
     },
     "execution_count": 85,
     "metadata": {},
     "output_type": "execute_result"
    },
    {
     "data": {
      "image/png": "[encoded data removed]",
      "text/plain": [
       "<Figure size 640x480 with 1 Axes>"
      ]
     },
     "metadata": {},
     "output_type": "display_data"
    }
   ],
   "source": [
    "plt.plot(grid_tau.detach().numpy(), loss_tau.detach().numpy())\n"
   ]
  },
  {
   "cell_type": "code",
   "execution_count": null,
   "id": "1f469599",
   "metadata": {},
   "outputs": [],
   "source": []
  }
 ],
 "metadata": {
  "kernelspec": {
   "display_name": "Python 3 (ipykernel)",
   "language": "python",
   "name": "python3"
  },
  "language_info": {
   "codemirror_mode": {
    "name": "ipython",
    "version": 3
   },
   "file_extension": ".py",
   "mimetype": "text/x-python",
   "name": "python",
   "nbconvert_exporter": "python",
   "pygments_lexer": "ipython3",
   "version": "3.8.15"
  }
 },
 "nbformat": 4,
 "nbformat_minor": 5
}
